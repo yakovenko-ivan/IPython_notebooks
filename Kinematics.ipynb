{
 "cells": [
  {
   "cell_type": "code",
   "execution_count": 7,
   "metadata": {
    "collapsed": false
   },
   "outputs": [],
   "source": [
    "%display latex\n",
    "\n",
    "R = RealField(4); R\n",
    "\n",
    "RealNumber = R"
   ]
  },
  {
   "cell_type": "markdown",
   "metadata": {
    "collapsed": false
   },
   "source": [
    "# Задача 1.25\n",
    "\n",
    "------------------\n",
    "\n",
    "**Условие задачи**: Точка движется в плоскости $xy$ по закону $x=\\alpha t$, $y=\\alpha t \\left(1-\\beta t \\right)$, где $\\alpha$ и $\\beta$ - положительные постоянные.\n",
    "\n",
    "**Найти**:\n",
    "\n",
    "1. уравнение траектории точки $y\\left(x\\right)$; изобразить её график.\n",
    "2. скорость $v$ и ускорение a точки в зависимости от $t$.\n",
    "3. момент $t_0$, когда угол между скоростью и ускорением равен $\\pi/4$.\n",
    "\n",
    "------------------\n",
    "\n",
    "На примере данной задачи я хотел бы продемонстрировать основные принципы работы в SageMath и дать наглядную визуализацию решения задачи, которую мы уже разбирали с вами на первом семинаре. Итак, приступим к решению."
   ]
  },
  {
   "cell_type": "markdown",
   "metadata": {},
   "source": [
    "В первую очередь необходимо ввести переменную $t$ - время [c], от которого будет зависеть наше решение. Переменная вводится командой var('t')"
   ]
  },
  {
   "cell_type": "code",
   "execution_count": 8,
   "metadata": {
    "collapsed": false
   },
   "outputs": [
    {
     "data": {
      "text/html": [
       "<html><script type=\"math/tex; mode=display\">\\newcommand{\\Bold}[1]{\\mathbf{#1}}t</script></html>"
      ],
      "text/plain": [
       "t"
      ]
     },
     "execution_count": 8,
     "metadata": {},
     "output_type": "execute_result"
    }
   ],
   "source": [
    "var('t')"
   ]
  },
  {
   "cell_type": "markdown",
   "metadata": {},
   "source": [
    "Далее инициализируем константы $\\alpha$ (**alpha**) и $\\beta$ (**beta**) некоторыми положительными величинами, и зададим интервал времени, на котором будем исследовать траекторию движения материальной точки $t \\in $ (**start**,**stop**)."
   ]
  },
  {
   "cell_type": "code",
   "execution_count": 9,
   "metadata": {
    "collapsed": false
   },
   "outputs": [],
   "source": [
    "start = 0.0\n",
    "stop  = 9.0\n",
    "alpha = 1.0\n",
    "beta  = 0.5"
   ]
  },
  {
   "cell_type": "code",
   "execution_count": 10,
   "metadata": {
    "collapsed": false
   },
   "outputs": [],
   "source": [
    "position=vector((alpha*t,alpha*t*(1-beta*t)))"
   ]
  },
  {
   "cell_type": "markdown",
   "metadata": {},
   "source": [
    "------------------\n",
    "\n",
    "_<u><strong>Упражнение</strong></u>_ \n",
    "\n",
    "Попробуйте в использовать параметрические уравнения окружности $(cos(t),sin(t))$, циклоиды $(\\alpha (t-sin(t)),\\alpha (1-cos(t)))$ или кардиоиды $(\\alpha cos(t)(1-cos(t)),\\alpha sin(t)(1-cos(t)))$ в качестве траектории материальной точки.\n",
    "\n",
    "------------------"
   ]
  },
  {
   "cell_type": "markdown",
   "metadata": {},
   "source": [
    "По определению, вектора скорости и ускорения могут быть найдены из следующих соотношений, если известно уравнение траектории материальной точки: \n",
    "\n",
    "$\\vec v(t) = \\frac{\\mathrm{d} \\vec r(t)}{\\mathrm{d} t} \\equiv \\dot {\\vec {r}}(t) = \\frac{\\mathrm{d} x(t)}{\\mathrm{d} t} \\vec i + \\frac{\\mathrm{d} y(t)}{\\mathrm{d} t} \\vec j$\n",
    "\n",
    "$\\vec a(t) = \\frac{\\mathrm{d} \\vec v(t)}{\\mathrm{d} t} \\equiv \\dot {\\vec {v}}(t) = \\frac{\\mathrm{d} v_x(t)}{\\mathrm{d} t} \\vec i + \\frac{\\mathrm{d} v_y(t)}{\\mathrm{d} t} \\vec j$\n",
    "\n",
    "где $\\vec i = (1,0)$ и $\\vec j = (0,1)$ - единичные вектора (орты) координатной плоскости $(xy)$\n",
    "\n",
    "Также, для вектора ускорения бывает удобным следующее представление:\n",
    "\n",
    "$\\vec a(t) = a_{\\tau} \\vec \\tau + a_n \\vec n$\n",
    "\n",
    "где $\\vec \\tau$ и $\\vec n$ - единичные вектора, направленные касательно (параллельно касательной) и по нормали (перпендикулярно к касательной) к траектории в момент времени t. "
   ]
  },
  {
   "cell_type": "markdown",
   "metadata": {},
   "source": [
    "С помощью процедуры **derivative** найдем вектора скорости (**velocity**) и ускорения (**acceleration**)."
   ]
  },
  {
   "cell_type": "code",
   "execution_count": 11,
   "metadata": {
    "collapsed": false
   },
   "outputs": [],
   "source": [
    "velocity=derivative(position,t)\n",
    "acceleration=derivative(velocity,t)"
   ]
  },
  {
   "cell_type": "markdown",
   "metadata": {},
   "source": [
    "Далее, определим единичные вектора $\\vec \\tau$ (**tangent**) и $\\vec n$ (**normal**) из следующих соотношений:\n",
    "\n",
    "$\\vec \\tau = \\frac{\\dot{\\vec r}(t)}{\\mid \\dot{\\vec r}(t) \\mid} = \\frac {\\vec v(t)} {\\mid \\vec v(t) \\mid}  $\n",
    "\n",
    "$\\vec n =  \\frac{\\dot{\\vec \\tau}(t)}{\\mid \\dot{\\vec \\tau}(t) \\mid}$"
   ]
  },
  {
   "cell_type": "code",
   "execution_count": 12,
   "metadata": {
    "collapsed": false
   },
   "outputs": [],
   "source": [
    "speed=velocity.norm()\n",
    "speed_deriv = derivative(speed,t)\n",
    "tangent = (1/speed)*velocity\n",
    "dT = derivative(tangent,t)\n",
    "normal = (1/dT.norm())*dT"
   ]
  },
  {
   "cell_type": "code",
   "execution_count": null,
   "metadata": {
    "collapsed": true
   },
   "outputs": [],
   "source": []
  },
  {
   "cell_type": "code",
   "execution_count": null,
   "metadata": {
    "collapsed": true
   },
   "outputs": [],
   "source": []
  },
  {
   "cell_type": "code",
   "execution_count": null,
   "metadata": {
    "collapsed": true
   },
   "outputs": [],
   "source": []
  }
 ],
 "metadata": {
  "kernelspec": {
   "display_name": "SageMath 7.5",
   "language": "",
   "name": "sagemath"
  },
  "language_info": {
   "codemirror_mode": {
    "name": "ipython",
    "version": 2
   },
   "file_extension": ".py",
   "mimetype": "text/x-python",
   "name": "python",
   "nbconvert_exporter": "python",
   "pygments_lexer": "ipython2",
   "version": "2.7.13"
  }
 },
 "nbformat": 4,
 "nbformat_minor": 0
}
